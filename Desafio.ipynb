{
  "nbformat": 4,
  "nbformat_minor": 0,
  "metadata": {
    "colab": {
      "provenance": [],
      "collapsed_sections": [
        "LKqUMR8e3QcA",
        "oujTMrLn5iyt",
        "AqLXkthM8H0f",
        "JbfTGjDlDAwh",
        "GPIBSOCSEINY",
        "nwpj5WsKIF9K"
      ]
    },
    "kernelspec": {
      "name": "python3",
      "display_name": "Python 3"
    },
    "language_info": {
      "name": "python"
    }
  },
  "cells": [
    {
      "cell_type": "code",
      "execution_count": null,
      "metadata": {
        "colab": {
          "base_uri": "https://localhost:8080/",
          "height": 293
        },
        "id": "R84hI7Nj1cwJ",
        "outputId": "fecec4cc-14c2-47b1-c445-0d20b4010eb0"
      },
      "outputs": [
        {
          "output_type": "execute_result",
          "data": {
            "text/plain": [
              "                 Produto Categoria do Produto    Preço      Frete  \\\n",
              "0     Assistente virtual          eletronicos   219.08   9.249790   \n",
              "1         Mesa de jantar               moveis   256.35  11.234305   \n",
              "2      Jogo de tabuleiro           brinquedos   279.51  21.262681   \n",
              "3            Micro-ondas     eletrodomesticos  1009.99  54.667344   \n",
              "4  Cadeira de escritório               moveis   446.99  26.964689   \n",
              "\n",
              "  Data da Compra        Vendedor Local da compra  Avaliação da compra  \\\n",
              "0     16/01/2021     Pedro Gomes              SP                    4   \n",
              "1     18/05/2022  Beatriz Moraes              RJ                    1   \n",
              "2     15/03/2021      João Souza              DF                    1   \n",
              "3     03/05/2022      João Souza              RS                    4   \n",
              "4     07/11/2020   Larissa Alves              MG                    5   \n",
              "\n",
              "  Tipo de pagamento  Quantidade de parcelas    lat    lon  \n",
              "0    cartao_credito                       8 -22.19 -48.79  \n",
              "1    cartao_credito                       4 -22.25 -42.66  \n",
              "2    cartao_credito                       1 -15.83 -47.86  \n",
              "3            boleto                       1 -30.17 -53.50  \n",
              "4            boleto                       1 -18.10 -44.38  "
            ],
            "text/html": [
              "\n",
              "  <div id=\"df-1ed02d95-88d2-4785-9067-8b539c0caae4\" class=\"colab-df-container\">\n",
              "    <div>\n",
              "<style scoped>\n",
              "    .dataframe tbody tr th:only-of-type {\n",
              "        vertical-align: middle;\n",
              "    }\n",
              "\n",
              "    .dataframe tbody tr th {\n",
              "        vertical-align: top;\n",
              "    }\n",
              "\n",
              "    .dataframe thead th {\n",
              "        text-align: right;\n",
              "    }\n",
              "</style>\n",
              "<table border=\"1\" class=\"dataframe\">\n",
              "  <thead>\n",
              "    <tr style=\"text-align: right;\">\n",
              "      <th></th>\n",
              "      <th>Produto</th>\n",
              "      <th>Categoria do Produto</th>\n",
              "      <th>Preço</th>\n",
              "      <th>Frete</th>\n",
              "      <th>Data da Compra</th>\n",
              "      <th>Vendedor</th>\n",
              "      <th>Local da compra</th>\n",
              "      <th>Avaliação da compra</th>\n",
              "      <th>Tipo de pagamento</th>\n",
              "      <th>Quantidade de parcelas</th>\n",
              "      <th>lat</th>\n",
              "      <th>lon</th>\n",
              "    </tr>\n",
              "  </thead>\n",
              "  <tbody>\n",
              "    <tr>\n",
              "      <th>0</th>\n",
              "      <td>Assistente virtual</td>\n",
              "      <td>eletronicos</td>\n",
              "      <td>219.08</td>\n",
              "      <td>9.249790</td>\n",
              "      <td>16/01/2021</td>\n",
              "      <td>Pedro Gomes</td>\n",
              "      <td>SP</td>\n",
              "      <td>4</td>\n",
              "      <td>cartao_credito</td>\n",
              "      <td>8</td>\n",
              "      <td>-22.19</td>\n",
              "      <td>-48.79</td>\n",
              "    </tr>\n",
              "    <tr>\n",
              "      <th>1</th>\n",
              "      <td>Mesa de jantar</td>\n",
              "      <td>moveis</td>\n",
              "      <td>256.35</td>\n",
              "      <td>11.234305</td>\n",
              "      <td>18/05/2022</td>\n",
              "      <td>Beatriz Moraes</td>\n",
              "      <td>RJ</td>\n",
              "      <td>1</td>\n",
              "      <td>cartao_credito</td>\n",
              "      <td>4</td>\n",
              "      <td>-22.25</td>\n",
              "      <td>-42.66</td>\n",
              "    </tr>\n",
              "    <tr>\n",
              "      <th>2</th>\n",
              "      <td>Jogo de tabuleiro</td>\n",
              "      <td>brinquedos</td>\n",
              "      <td>279.51</td>\n",
              "      <td>21.262681</td>\n",
              "      <td>15/03/2021</td>\n",
              "      <td>João Souza</td>\n",
              "      <td>DF</td>\n",
              "      <td>1</td>\n",
              "      <td>cartao_credito</td>\n",
              "      <td>1</td>\n",
              "      <td>-15.83</td>\n",
              "      <td>-47.86</td>\n",
              "    </tr>\n",
              "    <tr>\n",
              "      <th>3</th>\n",
              "      <td>Micro-ondas</td>\n",
              "      <td>eletrodomesticos</td>\n",
              "      <td>1009.99</td>\n",
              "      <td>54.667344</td>\n",
              "      <td>03/05/2022</td>\n",
              "      <td>João Souza</td>\n",
              "      <td>RS</td>\n",
              "      <td>4</td>\n",
              "      <td>boleto</td>\n",
              "      <td>1</td>\n",
              "      <td>-30.17</td>\n",
              "      <td>-53.50</td>\n",
              "    </tr>\n",
              "    <tr>\n",
              "      <th>4</th>\n",
              "      <td>Cadeira de escritório</td>\n",
              "      <td>moveis</td>\n",
              "      <td>446.99</td>\n",
              "      <td>26.964689</td>\n",
              "      <td>07/11/2020</td>\n",
              "      <td>Larissa Alves</td>\n",
              "      <td>MG</td>\n",
              "      <td>5</td>\n",
              "      <td>boleto</td>\n",
              "      <td>1</td>\n",
              "      <td>-18.10</td>\n",
              "      <td>-44.38</td>\n",
              "    </tr>\n",
              "  </tbody>\n",
              "</table>\n",
              "</div>\n",
              "    <div class=\"colab-df-buttons\">\n",
              "\n",
              "  <div class=\"colab-df-container\">\n",
              "    <button class=\"colab-df-convert\" onclick=\"convertToInteractive('df-1ed02d95-88d2-4785-9067-8b539c0caae4')\"\n",
              "            title=\"Convert this dataframe to an interactive table.\"\n",
              "            style=\"display:none;\">\n",
              "\n",
              "  <svg xmlns=\"http://www.w3.org/2000/svg\" height=\"24px\" viewBox=\"0 -960 960 960\">\n",
              "    <path d=\"M120-120v-720h720v720H120Zm60-500h600v-160H180v160Zm220 220h160v-160H400v160Zm0 220h160v-160H400v160ZM180-400h160v-160H180v160Zm440 0h160v-160H620v160ZM180-180h160v-160H180v160Zm440 0h160v-160H620v160Z\"/>\n",
              "  </svg>\n",
              "    </button>\n",
              "\n",
              "  <style>\n",
              "    .colab-df-container {\n",
              "      display:flex;\n",
              "      gap: 12px;\n",
              "    }\n",
              "\n",
              "    .colab-df-convert {\n",
              "      background-color: #E8F0FE;\n",
              "      border: none;\n",
              "      border-radius: 50%;\n",
              "      cursor: pointer;\n",
              "      display: none;\n",
              "      fill: #1967D2;\n",
              "      height: 32px;\n",
              "      padding: 0 0 0 0;\n",
              "      width: 32px;\n",
              "    }\n",
              "\n",
              "    .colab-df-convert:hover {\n",
              "      background-color: #E2EBFA;\n",
              "      box-shadow: 0px 1px 2px rgba(60, 64, 67, 0.3), 0px 1px 3px 1px rgba(60, 64, 67, 0.15);\n",
              "      fill: #174EA6;\n",
              "    }\n",
              "\n",
              "    .colab-df-buttons div {\n",
              "      margin-bottom: 4px;\n",
              "    }\n",
              "\n",
              "    [theme=dark] .colab-df-convert {\n",
              "      background-color: #3B4455;\n",
              "      fill: #D2E3FC;\n",
              "    }\n",
              "\n",
              "    [theme=dark] .colab-df-convert:hover {\n",
              "      background-color: #434B5C;\n",
              "      box-shadow: 0px 1px 3px 1px rgba(0, 0, 0, 0.15);\n",
              "      filter: drop-shadow(0px 1px 2px rgba(0, 0, 0, 0.3));\n",
              "      fill: #FFFFFF;\n",
              "    }\n",
              "  </style>\n",
              "\n",
              "    <script>\n",
              "      const buttonEl =\n",
              "        document.querySelector('#df-1ed02d95-88d2-4785-9067-8b539c0caae4 button.colab-df-convert');\n",
              "      buttonEl.style.display =\n",
              "        google.colab.kernel.accessAllowed ? 'block' : 'none';\n",
              "\n",
              "      async function convertToInteractive(key) {\n",
              "        const element = document.querySelector('#df-1ed02d95-88d2-4785-9067-8b539c0caae4');\n",
              "        const dataTable =\n",
              "          await google.colab.kernel.invokeFunction('convertToInteractive',\n",
              "                                                    [key], {});\n",
              "        if (!dataTable) return;\n",
              "\n",
              "        const docLinkHtml = 'Like what you see? Visit the ' +\n",
              "          '<a target=\"_blank\" href=https://colab.research.google.com/notebooks/data_table.ipynb>data table notebook</a>'\n",
              "          + ' to learn more about interactive tables.';\n",
              "        element.innerHTML = '';\n",
              "        dataTable['output_type'] = 'display_data';\n",
              "        await google.colab.output.renderOutput(dataTable, element);\n",
              "        const docLink = document.createElement('div');\n",
              "        docLink.innerHTML = docLinkHtml;\n",
              "        element.appendChild(docLink);\n",
              "      }\n",
              "    </script>\n",
              "  </div>\n",
              "\n",
              "\n",
              "<div id=\"df-f81fc11c-10dd-4db1-84dc-7896575f3b5e\">\n",
              "  <button class=\"colab-df-quickchart\" onclick=\"quickchart('df-f81fc11c-10dd-4db1-84dc-7896575f3b5e')\"\n",
              "            title=\"Suggest charts\"\n",
              "            style=\"display:none;\">\n",
              "\n",
              "<svg xmlns=\"http://www.w3.org/2000/svg\" height=\"24px\"viewBox=\"0 0 24 24\"\n",
              "     width=\"24px\">\n",
              "    <g>\n",
              "        <path d=\"M19 3H5c-1.1 0-2 .9-2 2v14c0 1.1.9 2 2 2h14c1.1 0 2-.9 2-2V5c0-1.1-.9-2-2-2zM9 17H7v-7h2v7zm4 0h-2V7h2v10zm4 0h-2v-4h2v4z\"/>\n",
              "    </g>\n",
              "</svg>\n",
              "  </button>\n",
              "\n",
              "<style>\n",
              "  .colab-df-quickchart {\n",
              "      --bg-color: #E8F0FE;\n",
              "      --fill-color: #1967D2;\n",
              "      --hover-bg-color: #E2EBFA;\n",
              "      --hover-fill-color: #174EA6;\n",
              "      --disabled-fill-color: #AAA;\n",
              "      --disabled-bg-color: #DDD;\n",
              "  }\n",
              "\n",
              "  [theme=dark] .colab-df-quickchart {\n",
              "      --bg-color: #3B4455;\n",
              "      --fill-color: #D2E3FC;\n",
              "      --hover-bg-color: #434B5C;\n",
              "      --hover-fill-color: #FFFFFF;\n",
              "      --disabled-bg-color: #3B4455;\n",
              "      --disabled-fill-color: #666;\n",
              "  }\n",
              "\n",
              "  .colab-df-quickchart {\n",
              "    background-color: var(--bg-color);\n",
              "    border: none;\n",
              "    border-radius: 50%;\n",
              "    cursor: pointer;\n",
              "    display: none;\n",
              "    fill: var(--fill-color);\n",
              "    height: 32px;\n",
              "    padding: 0;\n",
              "    width: 32px;\n",
              "  }\n",
              "\n",
              "  .colab-df-quickchart:hover {\n",
              "    background-color: var(--hover-bg-color);\n",
              "    box-shadow: 0 1px 2px rgba(60, 64, 67, 0.3), 0 1px 3px 1px rgba(60, 64, 67, 0.15);\n",
              "    fill: var(--button-hover-fill-color);\n",
              "  }\n",
              "\n",
              "  .colab-df-quickchart-complete:disabled,\n",
              "  .colab-df-quickchart-complete:disabled:hover {\n",
              "    background-color: var(--disabled-bg-color);\n",
              "    fill: var(--disabled-fill-color);\n",
              "    box-shadow: none;\n",
              "  }\n",
              "\n",
              "  .colab-df-spinner {\n",
              "    border: 2px solid var(--fill-color);\n",
              "    border-color: transparent;\n",
              "    border-bottom-color: var(--fill-color);\n",
              "    animation:\n",
              "      spin 1s steps(1) infinite;\n",
              "  }\n",
              "\n",
              "  @keyframes spin {\n",
              "    0% {\n",
              "      border-color: transparent;\n",
              "      border-bottom-color: var(--fill-color);\n",
              "      border-left-color: var(--fill-color);\n",
              "    }\n",
              "    20% {\n",
              "      border-color: transparent;\n",
              "      border-left-color: var(--fill-color);\n",
              "      border-top-color: var(--fill-color);\n",
              "    }\n",
              "    30% {\n",
              "      border-color: transparent;\n",
              "      border-left-color: var(--fill-color);\n",
              "      border-top-color: var(--fill-color);\n",
              "      border-right-color: var(--fill-color);\n",
              "    }\n",
              "    40% {\n",
              "      border-color: transparent;\n",
              "      border-right-color: var(--fill-color);\n",
              "      border-top-color: var(--fill-color);\n",
              "    }\n",
              "    60% {\n",
              "      border-color: transparent;\n",
              "      border-right-color: var(--fill-color);\n",
              "    }\n",
              "    80% {\n",
              "      border-color: transparent;\n",
              "      border-right-color: var(--fill-color);\n",
              "      border-bottom-color: var(--fill-color);\n",
              "    }\n",
              "    90% {\n",
              "      border-color: transparent;\n",
              "      border-bottom-color: var(--fill-color);\n",
              "    }\n",
              "  }\n",
              "</style>\n",
              "\n",
              "  <script>\n",
              "    async function quickchart(key) {\n",
              "      const quickchartButtonEl =\n",
              "        document.querySelector('#' + key + ' button');\n",
              "      quickchartButtonEl.disabled = true;  // To prevent multiple clicks.\n",
              "      quickchartButtonEl.classList.add('colab-df-spinner');\n",
              "      try {\n",
              "        const charts = await google.colab.kernel.invokeFunction(\n",
              "            'suggestCharts', [key], {});\n",
              "      } catch (error) {\n",
              "        console.error('Error during call to suggestCharts:', error);\n",
              "      }\n",
              "      quickchartButtonEl.classList.remove('colab-df-spinner');\n",
              "      quickchartButtonEl.classList.add('colab-df-quickchart-complete');\n",
              "    }\n",
              "    (() => {\n",
              "      let quickchartButtonEl =\n",
              "        document.querySelector('#df-f81fc11c-10dd-4db1-84dc-7896575f3b5e button');\n",
              "      quickchartButtonEl.style.display =\n",
              "        google.colab.kernel.accessAllowed ? 'block' : 'none';\n",
              "    })();\n",
              "  </script>\n",
              "</div>\n",
              "\n",
              "    </div>\n",
              "  </div>\n"
            ],
            "application/vnd.google.colaboratory.intrinsic+json": {
              "type": "dataframe",
              "summary": "{\n  \"name\": \"lojas[0]\",\n  \"rows\": 5,\n  \"fields\": [\n    {\n      \"column\": \"Produto\",\n      \"properties\": {\n        \"dtype\": \"string\",\n        \"num_unique_values\": 5,\n        \"samples\": [\n          \"Mesa de jantar\",\n          \"Cadeira de escrit\\u00f3rio\",\n          \"Jogo de tabuleiro\"\n        ],\n        \"semantic_type\": \"\",\n        \"description\": \"\"\n      }\n    },\n    {\n      \"column\": \"Categoria do Produto\",\n      \"properties\": {\n        \"dtype\": \"string\",\n        \"num_unique_values\": 4,\n        \"samples\": [\n          \"moveis\",\n          \"eletrodomesticos\",\n          \"eletronicos\"\n        ],\n        \"semantic_type\": \"\",\n        \"description\": \"\"\n      }\n    },\n    {\n      \"column\": \"Pre\\u00e7o\",\n      \"properties\": {\n        \"dtype\": \"number\",\n        \"std\": 329.08929332325596,\n        \"min\": 219.08,\n        \"max\": 1009.99,\n        \"num_unique_values\": 5,\n        \"samples\": [\n          256.35,\n          446.99,\n          279.51\n        ],\n        \"semantic_type\": \"\",\n        \"description\": \"\"\n      }\n    },\n    {\n      \"column\": \"Frete\",\n      \"properties\": {\n        \"dtype\": \"number\",\n        \"std\": 18.268940050688716,\n        \"min\": 9.2497899853,\n        \"max\": 54.6673442173,\n        \"num_unique_values\": 5,\n        \"samples\": [\n          11.2343053621,\n          26.9646890964,\n          21.2626809863\n        ],\n        \"semantic_type\": \"\",\n        \"description\": \"\"\n      }\n    },\n    {\n      \"column\": \"Data da Compra\",\n      \"properties\": {\n        \"dtype\": \"object\",\n        \"num_unique_values\": 5,\n        \"samples\": [\n          \"18/05/2022\",\n          \"07/11/2020\",\n          \"15/03/2021\"\n        ],\n        \"semantic_type\": \"\",\n        \"description\": \"\"\n      }\n    },\n    {\n      \"column\": \"Vendedor\",\n      \"properties\": {\n        \"dtype\": \"string\",\n        \"num_unique_values\": 4,\n        \"samples\": [\n          \"Beatriz Moraes\",\n          \"Larissa Alves\",\n          \"Pedro Gomes\"\n        ],\n        \"semantic_type\": \"\",\n        \"description\": \"\"\n      }\n    },\n    {\n      \"column\": \"Local da compra\",\n      \"properties\": {\n        \"dtype\": \"string\",\n        \"num_unique_values\": 5,\n        \"samples\": [\n          \"RJ\",\n          \"MG\",\n          \"DF\"\n        ],\n        \"semantic_type\": \"\",\n        \"description\": \"\"\n      }\n    },\n    {\n      \"column\": \"Avalia\\u00e7\\u00e3o da compra\",\n      \"properties\": {\n        \"dtype\": \"number\",\n        \"std\": 1,\n        \"min\": 1,\n        \"max\": 5,\n        \"num_unique_values\": 3,\n        \"samples\": [\n          4,\n          1,\n          5\n        ],\n        \"semantic_type\": \"\",\n        \"description\": \"\"\n      }\n    },\n    {\n      \"column\": \"Tipo de pagamento\",\n      \"properties\": {\n        \"dtype\": \"category\",\n        \"num_unique_values\": 2,\n        \"samples\": [\n          \"boleto\",\n          \"cartao_credito\"\n        ],\n        \"semantic_type\": \"\",\n        \"description\": \"\"\n      }\n    },\n    {\n      \"column\": \"Quantidade de parcelas\",\n      \"properties\": {\n        \"dtype\": \"number\",\n        \"std\": 3,\n        \"min\": 1,\n        \"max\": 8,\n        \"num_unique_values\": 3,\n        \"samples\": [\n          8,\n          4\n        ],\n        \"semantic_type\": \"\",\n        \"description\": \"\"\n      }\n    },\n    {\n      \"column\": \"lat\",\n      \"properties\": {\n        \"dtype\": \"number\",\n        \"std\": 5.47037658667116,\n        \"min\": -30.17,\n        \"max\": -15.83,\n        \"num_unique_values\": 5,\n        \"samples\": [\n          -22.25,\n          -18.1\n        ],\n        \"semantic_type\": \"\",\n        \"description\": \"\"\n      }\n    },\n    {\n      \"column\": \"lon\",\n      \"properties\": {\n        \"dtype\": \"number\",\n        \"std\": 4.211130489547909,\n        \"min\": -53.5,\n        \"max\": -42.66,\n        \"num_unique_values\": 5,\n        \"samples\": [\n          -42.66,\n          -44.38\n        ],\n        \"semantic_type\": \"\",\n        \"description\": \"\"\n      }\n    }\n  ]\n}"
            }
          },
          "metadata": {},
          "execution_count": 8
        }
      ],
      "source": [
        "import pandas as pd\n",
        "\n",
        "url = \"https://raw.githubusercontent.com/alura-es-cursos/challenge1-data-science/refs/heads/main/base-de-dados-challenge-1/loja_1.csv\"\n",
        "url2 = \"https://raw.githubusercontent.com/alura-es-cursos/challenge1-data-science/refs/heads/main/base-de-dados-challenge-1/loja_2.csv\"\n",
        "url3 = \"https://raw.githubusercontent.com/alura-es-cursos/challenge1-data-science/refs/heads/main/base-de-dados-challenge-1/loja_3.csv\"\n",
        "url4 = \"https://raw.githubusercontent.com/alura-es-cursos/challenge1-data-science/refs/heads/main/base-de-dados-challenge-1/loja_4.csv\"\n",
        "\n",
        "loja = pd.read_csv(url)\n",
        "loja2 = pd.read_csv(url2)\n",
        "loja3 = pd.read_csv(url3)\n",
        "loja4 = pd.read_csv(url4)\n",
        "\n",
        "lojas = [loja, loja2, loja3, loja4]\n",
        "\n",
        "lojas[0].head()"
      ]
    },
    {
      "cell_type": "markdown",
      "source": [
        "## 1. Análise do faturamento"
      ],
      "metadata": {
        "id": "LKqUMR8e3QcA"
      }
    },
    {
      "cell_type": "markdown",
      "source": [
        "### Loja 1"
      ],
      "metadata": {
        "id": "oujTMrLn5iyt"
      }
    },
    {
      "cell_type": "code",
      "source": [
        "faturamento_loja1 = loja.Preço.sum()\n",
        "f\"R$ {'{0:.2f}'.format(faturamento_loja1)}\""
      ],
      "metadata": {
        "colab": {
          "base_uri": "https://localhost:8080/",
          "height": 35
        },
        "id": "kp2uuyHq3XI_",
        "outputId": "7ba41b62-c084-4f7c-e66e-2c94a2b75519"
      },
      "execution_count": null,
      "outputs": [
        {
          "output_type": "execute_result",
          "data": {
            "text/plain": [
              "'R$ 1384497.58'"
            ],
            "application/vnd.google.colaboratory.intrinsic+json": {
              "type": "string"
            }
          },
          "metadata": {},
          "execution_count": 11
        }
      ]
    },
    {
      "cell_type": "markdown",
      "source": [
        "### Loja 2"
      ],
      "metadata": {
        "id": "DjbjNTEI69DY"
      }
    },
    {
      "cell_type": "code",
      "source": [
        "faturamento_loja2 = loja2.Preço.sum()\n",
        "f\"R$ {'{0:.2f}'.format(faturamento_loja2)}\""
      ],
      "metadata": {
        "colab": {
          "base_uri": "https://localhost:8080/",
          "height": 35
        },
        "id": "3N2v6L9c7AJP",
        "outputId": "d5aa4097-d774-4c67-f2bc-afee75e82107"
      },
      "execution_count": null,
      "outputs": [
        {
          "output_type": "execute_result",
          "data": {
            "text/plain": [
              "'R$ 1488459.06'"
            ],
            "application/vnd.google.colaboratory.intrinsic+json": {
              "type": "string"
            }
          },
          "metadata": {},
          "execution_count": 12
        }
      ]
    },
    {
      "cell_type": "markdown",
      "source": [
        "### Loja 3"
      ],
      "metadata": {
        "id": "6tK8Bf4u7TWS"
      }
    },
    {
      "cell_type": "code",
      "source": [
        "  faturamento_loja3 = loja3.Preço.sum()\n",
        "  f\"R$ {'{0:.2f}'.format(faturamento_loja3)}\""
      ],
      "metadata": {
        "colab": {
          "base_uri": "https://localhost:8080/",
          "height": 35
        },
        "outputId": "ca14e0ce-4d32-42ba-825d-7548518a2325",
        "id": "VL5nw7WB7fD_"
      },
      "execution_count": null,
      "outputs": [
        {
          "output_type": "execute_result",
          "data": {
            "text/plain": [
              "'R$ 1464025.03'"
            ],
            "application/vnd.google.colaboratory.intrinsic+json": {
              "type": "string"
            }
          },
          "metadata": {},
          "execution_count": 13
        }
      ]
    },
    {
      "cell_type": "markdown",
      "source": [
        "###Loja 4"
      ],
      "metadata": {
        "id": "lTU98JcU7pHu"
      }
    },
    {
      "cell_type": "code",
      "source": [
        "faturamento_loja4 = loja4.Preço.sum()\n",
        "f\"R$ {'{0:.2f}'.format(faturamento_loja4)}\""
      ],
      "metadata": {
        "colab": {
          "base_uri": "https://localhost:8080/",
          "height": 35
        },
        "id": "NMvr1M-b7s-U",
        "outputId": "355fd748-4081-45e5-e33c-95509b32d7a9"
      },
      "execution_count": null,
      "outputs": [
        {
          "output_type": "execute_result",
          "data": {
            "text/plain": [
              "'R$ 1384497.58'"
            ],
            "application/vnd.google.colaboratory.intrinsic+json": {
              "type": "string"
            }
          },
          "metadata": {},
          "execution_count": 14
        }
      ]
    },
    {
      "cell_type": "markdown",
      "source": [
        "##1.1 Vendas por categoria"
      ],
      "metadata": {
        "id": "AqLXkthM8H0f"
      }
    },
    {
      "cell_type": "markdown",
      "source": [
        "###Loja 1"
      ],
      "metadata": {
        "id": "IL7juQiQBtP-"
      }
    },
    {
      "cell_type": "code",
      "source": [
        "loja['Categoria do Produto'].value_counts(ascending=False)"
      ],
      "metadata": {
        "colab": {
          "base_uri": "https://localhost:8080/"
        },
        "id": "5kPcO_kp8Rn_",
        "outputId": "f00796f2-62b3-4e32-a662-31562ba432c1"
      },
      "execution_count": null,
      "outputs": [
        {
          "output_type": "execute_result",
          "data": {
            "text/plain": [
              "Categoria do Produto\n",
              "moveis                   480\n",
              "eletronicos              451\n",
              "brinquedos               338\n",
              "esporte e lazer          277\n",
              "eletrodomesticos         254\n",
              "utilidades domesticas    201\n",
              "livros                   187\n",
              "instrumentos musicais    170\n",
              "Name: count, dtype: int64"
            ],
            "text/html": [
              "<div>\n",
              "<style scoped>\n",
              "    .dataframe tbody tr th:only-of-type {\n",
              "        vertical-align: middle;\n",
              "    }\n",
              "\n",
              "    .dataframe tbody tr th {\n",
              "        vertical-align: top;\n",
              "    }\n",
              "\n",
              "    .dataframe thead th {\n",
              "        text-align: right;\n",
              "    }\n",
              "</style>\n",
              "<table border=\"1\" class=\"dataframe\">\n",
              "  <thead>\n",
              "    <tr style=\"text-align: right;\">\n",
              "      <th></th>\n",
              "      <th>count</th>\n",
              "    </tr>\n",
              "    <tr>\n",
              "      <th>Categoria do Produto</th>\n",
              "      <th></th>\n",
              "    </tr>\n",
              "  </thead>\n",
              "  <tbody>\n",
              "    <tr>\n",
              "      <th>moveis</th>\n",
              "      <td>480</td>\n",
              "    </tr>\n",
              "    <tr>\n",
              "      <th>eletronicos</th>\n",
              "      <td>451</td>\n",
              "    </tr>\n",
              "    <tr>\n",
              "      <th>brinquedos</th>\n",
              "      <td>338</td>\n",
              "    </tr>\n",
              "    <tr>\n",
              "      <th>esporte e lazer</th>\n",
              "      <td>277</td>\n",
              "    </tr>\n",
              "    <tr>\n",
              "      <th>eletrodomesticos</th>\n",
              "      <td>254</td>\n",
              "    </tr>\n",
              "    <tr>\n",
              "      <th>utilidades domesticas</th>\n",
              "      <td>201</td>\n",
              "    </tr>\n",
              "    <tr>\n",
              "      <th>livros</th>\n",
              "      <td>187</td>\n",
              "    </tr>\n",
              "    <tr>\n",
              "      <th>instrumentos musicais</th>\n",
              "      <td>170</td>\n",
              "    </tr>\n",
              "  </tbody>\n",
              "</table>\n",
              "</div><br><label><b>dtype:</b> int64</label>"
            ]
          },
          "metadata": {},
          "execution_count": 15
        }
      ]
    },
    {
      "cell_type": "markdown",
      "source": [
        "###Loja 2"
      ],
      "metadata": {
        "id": "z7VaZt5VBh-w"
      }
    },
    {
      "cell_type": "code",
      "source": [
        "loja2['Categoria do Produto'].value_counts()"
      ],
      "metadata": {
        "colab": {
          "base_uri": "https://localhost:8080/"
        },
        "id": "3DVLv7lnBleg",
        "outputId": "c5273a05-ca2f-477f-8711-27019b040a64"
      },
      "execution_count": null,
      "outputs": [
        {
          "output_type": "execute_result",
          "data": {
            "text/plain": [
              "Categoria do Produto\n",
              "moveis                   442\n",
              "eletronicos              422\n",
              "brinquedos               313\n",
              "eletrodomesticos         305\n",
              "esporte e lazer          275\n",
              "instrumentos musicais    224\n",
              "livros                   197\n",
              "utilidades domesticas    181\n",
              "Name: count, dtype: int64"
            ],
            "text/html": [
              "<div>\n",
              "<style scoped>\n",
              "    .dataframe tbody tr th:only-of-type {\n",
              "        vertical-align: middle;\n",
              "    }\n",
              "\n",
              "    .dataframe tbody tr th {\n",
              "        vertical-align: top;\n",
              "    }\n",
              "\n",
              "    .dataframe thead th {\n",
              "        text-align: right;\n",
              "    }\n",
              "</style>\n",
              "<table border=\"1\" class=\"dataframe\">\n",
              "  <thead>\n",
              "    <tr style=\"text-align: right;\">\n",
              "      <th></th>\n",
              "      <th>count</th>\n",
              "    </tr>\n",
              "    <tr>\n",
              "      <th>Categoria do Produto</th>\n",
              "      <th></th>\n",
              "    </tr>\n",
              "  </thead>\n",
              "  <tbody>\n",
              "    <tr>\n",
              "      <th>moveis</th>\n",
              "      <td>442</td>\n",
              "    </tr>\n",
              "    <tr>\n",
              "      <th>eletronicos</th>\n",
              "      <td>422</td>\n",
              "    </tr>\n",
              "    <tr>\n",
              "      <th>brinquedos</th>\n",
              "      <td>313</td>\n",
              "    </tr>\n",
              "    <tr>\n",
              "      <th>eletrodomesticos</th>\n",
              "      <td>305</td>\n",
              "    </tr>\n",
              "    <tr>\n",
              "      <th>esporte e lazer</th>\n",
              "      <td>275</td>\n",
              "    </tr>\n",
              "    <tr>\n",
              "      <th>instrumentos musicais</th>\n",
              "      <td>224</td>\n",
              "    </tr>\n",
              "    <tr>\n",
              "      <th>livros</th>\n",
              "      <td>197</td>\n",
              "    </tr>\n",
              "    <tr>\n",
              "      <th>utilidades domesticas</th>\n",
              "      <td>181</td>\n",
              "    </tr>\n",
              "  </tbody>\n",
              "</table>\n",
              "</div><br><label><b>dtype:</b> int64</label>"
            ]
          },
          "metadata": {},
          "execution_count": 16
        }
      ]
    },
    {
      "cell_type": "markdown",
      "source": [
        "### Loja 3"
      ],
      "metadata": {
        "id": "3V_7BJEXBxUf"
      }
    },
    {
      "cell_type": "code",
      "source": [
        "loja3['Categoria do Produto'].value_counts()"
      ],
      "metadata": {
        "colab": {
          "base_uri": "https://localhost:8080/"
        },
        "id": "AVVwAsgXB1L3",
        "outputId": "6a2e53e2-8e82-4dd6-b9e6-417ae5a579e2"
      },
      "execution_count": null,
      "outputs": [
        {
          "output_type": "execute_result",
          "data": {
            "text/plain": [
              "Categoria do Produto\n",
              "moveis                   499\n",
              "eletronicos              451\n",
              "brinquedos               315\n",
              "eletrodomesticos         278\n",
              "esporte e lazer          277\n",
              "livros                   185\n",
              "instrumentos musicais    177\n",
              "utilidades domesticas    177\n",
              "Name: count, dtype: int64"
            ],
            "text/html": [
              "<div>\n",
              "<style scoped>\n",
              "    .dataframe tbody tr th:only-of-type {\n",
              "        vertical-align: middle;\n",
              "    }\n",
              "\n",
              "    .dataframe tbody tr th {\n",
              "        vertical-align: top;\n",
              "    }\n",
              "\n",
              "    .dataframe thead th {\n",
              "        text-align: right;\n",
              "    }\n",
              "</style>\n",
              "<table border=\"1\" class=\"dataframe\">\n",
              "  <thead>\n",
              "    <tr style=\"text-align: right;\">\n",
              "      <th></th>\n",
              "      <th>count</th>\n",
              "    </tr>\n",
              "    <tr>\n",
              "      <th>Categoria do Produto</th>\n",
              "      <th></th>\n",
              "    </tr>\n",
              "  </thead>\n",
              "  <tbody>\n",
              "    <tr>\n",
              "      <th>moveis</th>\n",
              "      <td>499</td>\n",
              "    </tr>\n",
              "    <tr>\n",
              "      <th>eletronicos</th>\n",
              "      <td>451</td>\n",
              "    </tr>\n",
              "    <tr>\n",
              "      <th>brinquedos</th>\n",
              "      <td>315</td>\n",
              "    </tr>\n",
              "    <tr>\n",
              "      <th>eletrodomesticos</th>\n",
              "      <td>278</td>\n",
              "    </tr>\n",
              "    <tr>\n",
              "      <th>esporte e lazer</th>\n",
              "      <td>277</td>\n",
              "    </tr>\n",
              "    <tr>\n",
              "      <th>livros</th>\n",
              "      <td>185</td>\n",
              "    </tr>\n",
              "    <tr>\n",
              "      <th>instrumentos musicais</th>\n",
              "      <td>177</td>\n",
              "    </tr>\n",
              "    <tr>\n",
              "      <th>utilidades domesticas</th>\n",
              "      <td>177</td>\n",
              "    </tr>\n",
              "  </tbody>\n",
              "</table>\n",
              "</div><br><label><b>dtype:</b> int64</label>"
            ]
          },
          "metadata": {},
          "execution_count": 17
        }
      ]
    },
    {
      "cell_type": "markdown",
      "source": [
        "###Loja 4"
      ],
      "metadata": {
        "id": "Qvdu76LmB5LH"
      }
    },
    {
      "cell_type": "code",
      "source": [
        "loja4['Categoria do Produto'].value_counts()"
      ],
      "metadata": {
        "colab": {
          "base_uri": "https://localhost:8080/"
        },
        "id": "cxWVhG5QB8Rp",
        "outputId": "9da8aea1-451b-4927-8718-8f6d06132902"
      },
      "execution_count": null,
      "outputs": [
        {
          "output_type": "execute_result",
          "data": {
            "text/plain": [
              "Categoria do Produto\n",
              "moveis                   480\n",
              "eletronicos              451\n",
              "brinquedos               338\n",
              "esporte e lazer          277\n",
              "eletrodomesticos         254\n",
              "utilidades domesticas    201\n",
              "livros                   187\n",
              "instrumentos musicais    170\n",
              "Name: count, dtype: int64"
            ],
            "text/html": [
              "<div>\n",
              "<style scoped>\n",
              "    .dataframe tbody tr th:only-of-type {\n",
              "        vertical-align: middle;\n",
              "    }\n",
              "\n",
              "    .dataframe tbody tr th {\n",
              "        vertical-align: top;\n",
              "    }\n",
              "\n",
              "    .dataframe thead th {\n",
              "        text-align: right;\n",
              "    }\n",
              "</style>\n",
              "<table border=\"1\" class=\"dataframe\">\n",
              "  <thead>\n",
              "    <tr style=\"text-align: right;\">\n",
              "      <th></th>\n",
              "      <th>count</th>\n",
              "    </tr>\n",
              "    <tr>\n",
              "      <th>Categoria do Produto</th>\n",
              "      <th></th>\n",
              "    </tr>\n",
              "  </thead>\n",
              "  <tbody>\n",
              "    <tr>\n",
              "      <th>moveis</th>\n",
              "      <td>480</td>\n",
              "    </tr>\n",
              "    <tr>\n",
              "      <th>eletronicos</th>\n",
              "      <td>451</td>\n",
              "    </tr>\n",
              "    <tr>\n",
              "      <th>brinquedos</th>\n",
              "      <td>338</td>\n",
              "    </tr>\n",
              "    <tr>\n",
              "      <th>esporte e lazer</th>\n",
              "      <td>277</td>\n",
              "    </tr>\n",
              "    <tr>\n",
              "      <th>eletrodomesticos</th>\n",
              "      <td>254</td>\n",
              "    </tr>\n",
              "    <tr>\n",
              "      <th>utilidades domesticas</th>\n",
              "      <td>201</td>\n",
              "    </tr>\n",
              "    <tr>\n",
              "      <th>livros</th>\n",
              "      <td>187</td>\n",
              "    </tr>\n",
              "    <tr>\n",
              "      <th>instrumentos musicais</th>\n",
              "      <td>170</td>\n",
              "    </tr>\n",
              "  </tbody>\n",
              "</table>\n",
              "</div><br><label><b>dtype:</b> int64</label>"
            ]
          },
          "metadata": {},
          "execution_count": 18
        }
      ]
    },
    {
      "cell_type": "markdown",
      "source": [
        "## 1.2 Satisfação dos clientes"
      ],
      "metadata": {
        "id": "JbfTGjDlDAwh"
      }
    },
    {
      "cell_type": "markdown",
      "source": [
        "###Loja 1"
      ],
      "metadata": {
        "id": "1mLCtAxvDFcG"
      }
    },
    {
      "cell_type": "code",
      "source": [
        "loja['Avaliação da compra'].mean()"
      ],
      "metadata": {
        "colab": {
          "base_uri": "https://localhost:8080/"
        },
        "id": "URxqCUhHDHMH",
        "outputId": "ec8331af-475b-42a5-c856-f3db200360be"
      },
      "execution_count": null,
      "outputs": [
        {
          "output_type": "execute_result",
          "data": {
            "text/plain": [
              "np.float64(3.976685036032217)"
            ]
          },
          "metadata": {},
          "execution_count": 18
        }
      ]
    },
    {
      "cell_type": "markdown",
      "source": [
        "###Loja 2"
      ],
      "metadata": {
        "id": "k0uDlrNnDzlz"
      }
    },
    {
      "cell_type": "code",
      "source": [
        "loja2['Avaliação da compra'].mean()"
      ],
      "metadata": {
        "colab": {
          "base_uri": "https://localhost:8080/"
        },
        "id": "WuOf7UxiD3DA",
        "outputId": "4a98417c-3b7a-4379-b7e8-932aa4ad3317"
      },
      "execution_count": null,
      "outputs": [
        {
          "output_type": "execute_result",
          "data": {
            "text/plain": [
              "np.float64(4.037303942348453)"
            ]
          },
          "metadata": {},
          "execution_count": 19
        }
      ]
    },
    {
      "cell_type": "markdown",
      "source": [
        "###Loja 3"
      ],
      "metadata": {
        "id": "bBrBlIotD7cu"
      }
    },
    {
      "cell_type": "code",
      "source": [
        "loja3['Avaliação da compra'].mean()"
      ],
      "metadata": {
        "colab": {
          "base_uri": "https://localhost:8080/"
        },
        "id": "cFpC1UzzD9KR",
        "outputId": "40c58df5-8a99-4b92-a1a6-112d50a013ca"
      },
      "execution_count": null,
      "outputs": [
        {
          "output_type": "execute_result",
          "data": {
            "text/plain": [
              "np.float64(4.048325561678677)"
            ]
          },
          "metadata": {},
          "execution_count": 20
        }
      ]
    },
    {
      "cell_type": "markdown",
      "source": [
        "###Loja 4"
      ],
      "metadata": {
        "id": "Xnp8U1NND_N2"
      }
    },
    {
      "cell_type": "code",
      "source": [
        "loja4['Avaliação da compra'].mean()"
      ],
      "metadata": {
        "colab": {
          "base_uri": "https://localhost:8080/"
        },
        "id": "dJpUdDNZEBRW",
        "outputId": "96de7bf2-dd94-4739-9562-8e35ea5cfd65"
      },
      "execution_count": null,
      "outputs": [
        {
          "output_type": "execute_result",
          "data": {
            "text/plain": [
              "np.float64(3.9957591178965224)"
            ]
          },
          "metadata": {},
          "execution_count": 21
        }
      ]
    },
    {
      "cell_type": "markdown",
      "source": [
        "## 1.3 Produto mais e menos vendido\n",
        "\n"
      ],
      "metadata": {
        "id": "GPIBSOCSEINY"
      }
    },
    {
      "cell_type": "markdown",
      "source": [
        "### Loja 1"
      ],
      "metadata": {
        "id": "jKZHyumfEKmu"
      }
    },
    {
      "cell_type": "code",
      "source": [
        "vendas_por_produto = loja.Produto.value_counts()\n",
        "mais_vendido, *meio, menos_vendido = vendas_por_produto.items()\n",
        "itens_vendidos_loja1 = { 'mais vendido': mais_vendido, 'menos vendido': menos_vendido}\n",
        "itens_vendidos_loja1"
      ],
      "metadata": {
        "colab": {
          "base_uri": "https://localhost:8080/"
        },
        "id": "aiRdKwqLETZx",
        "outputId": "f2da8ac3-f30d-4668-8bb4-5f063009d16b"
      },
      "execution_count": null,
      "outputs": [
        {
          "output_type": "execute_result",
          "data": {
            "text/plain": [
              "{'mais vendido': ('Micro-ondas', 60), 'menos vendido': ('Celular ABXY', 33)}"
            ]
          },
          "metadata": {},
          "execution_count": 22
        }
      ]
    },
    {
      "cell_type": "markdown",
      "source": [
        " ### Loja 2"
      ],
      "metadata": {
        "id": "mLcP5uXrGWXx"
      }
    },
    {
      "cell_type": "code",
      "source": [
        "vendas_por_produto = loja2.Produto.value_counts()\n",
        "mais_vendido, *meio, menos_vendido = vendas_por_produto.items()\n",
        "itens_vendidos_loja2 = { 'mais vendido': mais_vendido, 'menos vendido': menos_vendido}\n",
        "itens_vendidos_loja2"
      ],
      "metadata": {
        "colab": {
          "base_uri": "https://localhost:8080/"
        },
        "id": "T2uOZfmUGaQv",
        "outputId": "d3136d4c-c688-4ae6-9c7f-cfec0f62b2db"
      },
      "execution_count": null,
      "outputs": [
        {
          "output_type": "execute_result",
          "data": {
            "text/plain": [
              "{'mais vendido': ('Iniciando em programação', 65),\n",
              " 'menos vendido': ('Jogo de tabuleiro', 32)}"
            ]
          },
          "metadata": {},
          "execution_count": 23
        }
      ]
    },
    {
      "cell_type": "markdown",
      "source": [
        "### Loja 3"
      ],
      "metadata": {
        "id": "fcM0P3M0Gnwj"
      }
    },
    {
      "cell_type": "code",
      "source": [
        "vendas_por_produto = loja3.Produto.value_counts()\n",
        "mais_vendido, *meio, menos_vendido = vendas_por_produto.items()\n",
        "itens_vendidos_loja3 = { 'mais vendido': mais_vendido, 'menos vendido': menos_vendido}\n",
        "itens_vendidos_loja3"
      ],
      "metadata": {
        "colab": {
          "base_uri": "https://localhost:8080/"
        },
        "id": "sswsZVRLGsap",
        "outputId": "dc4d5a43-a516-4efe-bb55-9b40db92cd06"
      },
      "execution_count": null,
      "outputs": [
        {
          "output_type": "execute_result",
          "data": {
            "text/plain": [
              "{'mais vendido': ('Kit banquetas', 57),\n",
              " 'menos vendido': ('Blocos de montar', 35)}"
            ]
          },
          "metadata": {},
          "execution_count": 24
        }
      ]
    },
    {
      "cell_type": "markdown",
      "source": [
        "### Loja 4"
      ],
      "metadata": {
        "id": "boVmai0OGwFY"
      }
    },
    {
      "cell_type": "code",
      "source": [
        "vendas_por_produto = loja4.Produto.value_counts()\n",
        "mais_vendido, *meio, menos_vendido = vendas_por_produto.items()\n",
        "itens_vendidos_loja4 = { 'mais vendido': mais_vendido, 'menos vendido': menos_vendido}\n",
        "itens_vendidos_loja4"
      ],
      "metadata": {
        "colab": {
          "base_uri": "https://localhost:8080/"
        },
        "id": "rShIVDKPGx2k",
        "outputId": "1352cee4-5fce-473f-c1b2-670d15e5a3da"
      },
      "execution_count": null,
      "outputs": [
        {
          "output_type": "execute_result",
          "data": {
            "text/plain": [
              "{'mais vendido': ('Cama box', 62), 'menos vendido': ('Guitarra', 33)}"
            ]
          },
          "metadata": {},
          "execution_count": 25
        }
      ]
    },
    {
      "cell_type": "markdown",
      "source": [
        "##1.4 Valor do Frete"
      ],
      "metadata": {
        "id": "nwpj5WsKIF9K"
      }
    },
    {
      "cell_type": "markdown",
      "source": [
        "###Loja 1"
      ],
      "metadata": {
        "id": "wqPilVGoIbdH"
      }
    },
    {
      "cell_type": "code",
      "source": [
        "loja.Frete.mean()"
      ],
      "metadata": {
        "colab": {
          "base_uri": "https://localhost:8080/"
        },
        "id": "Y2qnaEg6Idd_",
        "outputId": "4b6ffb51-9d02-40b0-b379-759cc6006a8b"
      },
      "execution_count": null,
      "outputs": [
        {
          "output_type": "execute_result",
          "data": {
            "text/plain": [
              "np.float64(34.69180491551149)"
            ]
          },
          "metadata": {},
          "execution_count": 26
        }
      ]
    },
    {
      "cell_type": "markdown",
      "source": [
        "###Loja 2"
      ],
      "metadata": {
        "id": "YAPGk_faI89x"
      }
    },
    {
      "cell_type": "code",
      "source": [
        "loja2.Frete.mean()"
      ],
      "metadata": {
        "colab": {
          "base_uri": "https://localhost:8080/"
        },
        "id": "MBkpeVzQJAmY",
        "outputId": "88aa5902-c1f2-41c2-b850-f907e5df1eeb"
      },
      "execution_count": null,
      "outputs": [
        {
          "output_type": "execute_result",
          "data": {
            "text/plain": [
              "np.float64(33.62194065817927)"
            ]
          },
          "metadata": {},
          "execution_count": 27
        }
      ]
    },
    {
      "cell_type": "markdown",
      "source": [
        "###Loja 3"
      ],
      "metadata": {
        "id": "-Q0HFCO3JGfA"
      }
    },
    {
      "cell_type": "code",
      "source": [
        "loja3.Frete.mean()"
      ],
      "metadata": {
        "colab": {
          "base_uri": "https://localhost:8080/"
        },
        "id": "t1dUjoJ8JIPI",
        "outputId": "ecaf25c5-f9a0-4ae9-c836-ccbce3154024"
      },
      "execution_count": null,
      "outputs": [
        {
          "output_type": "execute_result",
          "data": {
            "text/plain": [
              "np.float64(33.07446427411743)"
            ]
          },
          "metadata": {},
          "execution_count": 28
        }
      ]
    },
    {
      "cell_type": "markdown",
      "source": [
        "###Loja 4"
      ],
      "metadata": {
        "id": "nB6xxr7DJKyo"
      }
    },
    {
      "cell_type": "code",
      "source": [
        "loja4.Frete.mean()"
      ],
      "metadata": {
        "colab": {
          "base_uri": "https://localhost:8080/"
        },
        "id": "8cTblA5XJM_P",
        "outputId": "5a762429-c573-4504-c1d9-865ca6abfd90"
      },
      "execution_count": null,
      "outputs": [
        {
          "output_type": "execute_result",
          "data": {
            "text/plain": [
              "np.float64(31.278997081841727)"
            ]
          },
          "metadata": {},
          "execution_count": 29
        }
      ]
    },
    {
      "cell_type": "markdown",
      "source": [
        "## 2.0 Gráficos"
      ],
      "metadata": {
        "id": "0Xn8nyu8MD94"
      }
    },
    {
      "cell_type": "markdown",
      "source": [
        "### Faturamento total Por Loja"
      ],
      "metadata": {
        "id": "jECV4GB_MMxA"
      }
    },
    {
      "cell_type": "code",
      "source": [
        "import matplotlib.pyplot as plt\n",
        "\n",
        "nome_lojas = ['Loja 1', 'Loja 2', 'Loja 3', 'Loja 4']"
      ],
      "metadata": {
        "id": "XvK5o9RxNDg2"
      },
      "execution_count": null,
      "outputs": []
    },
    {
      "cell_type": "code",
      "source": [
        "for loja in lojas:\n",
        "  loja['Ano Faturamento'] = pd.to_datetime(loja['Data da Compra'], format='%d/%m/%Y').dt.year\n",
        "\n",
        "faturamentos_por_ano = [loja.groupby('Ano Faturamento')['Preço'].sum() for loja in lojas]\n",
        "\n",
        "for index, faturamento in enumerate(faturamentos_por_ano):\n",
        "  plt.plot(faturamento.index, faturamento.values, label=nome_lojas[index])\n",
        "\n",
        "plt.title('Faturamento por loja')\n",
        "plt.ylabel('Faturamento (R$)')\n",
        "plt.xlabel('Ano')\n",
        "plt.legend()"
      ],
      "metadata": {
        "colab": {
          "base_uri": "https://localhost:8080/",
          "height": 489
        },
        "id": "WmBOQnaUNHAu",
        "outputId": "a52c0f89-db58-474e-8917-ea593d9af1c7"
      },
      "execution_count": null,
      "outputs": [
        {
          "output_type": "execute_result",
          "data": {
            "text/plain": [
              "<matplotlib.legend.Legend at 0x7d4722b1a710>"
            ]
          },
          "metadata": {},
          "execution_count": 10
        },
        {
          "output_type": "display_data",
          "data": {
            "text/plain": [
              "<Figure size 640x480 with 1 Axes>"
            ],
            "image/png": "[encoded data removed]"
          },
          "metadata": {}
        }
      ]
    },
    {
      "cell_type": "markdown",
      "source": [
        "###2.2 Média de avaliações de cada loja"
      ],
      "metadata": {
        "id": "HngjLPAN61pp"
      }
    },
    {
      "cell_type": "code",
      "source": [
        "# Avaliação média das lojas\n",
        "avaliacoes = [loja['Avaliação da compra'].mean() for loja in lojas]\n",
        "\n",
        "fig, ax = plt.subplots()\n",
        "\n",
        "avaliacao_loja1 = avaliacoes\n",
        "loja = nome_lojas\n",
        "\n",
        "ax.pie(avaliacao_loja1, labels=loja, autopct='%1.1f%%', startangle=90)\n",
        "ax.axis('equal')\n",
        "\n",
        "plt.title('Avaliação Média dos Clientes por Loja')\n",
        "plt.show()"
      ],
      "metadata": {
        "colab": {
          "base_uri": "https://localhost:8080/",
          "height": 429
        },
        "id": "KvZFPAS26_GF",
        "outputId": "9e156127-53e2-467c-d2e0-0e0cd52d9229"
      },
      "execution_count": null,
      "outputs": [
        {
          "output_type": "display_data",
          "data": {
            "text/plain": [
              "<Figure size 640x480 with 1 Axes>"
            ],
            "image/png": "[encoded data removed]"
          },
          "metadata": {}
        }
      ]
    },
    {
      "cell_type": "markdown",
      "source": [],
      "metadata": {
        "id": "Uo_3m4IyZNmg"
      }
    },
    {
      "cell_type": "markdown",
      "source": [
        "### 2.3 Custo do frete anual"
      ],
      "metadata": {
        "id": "5S1yiuE6-Opk"
      }
    },
    {
      "cell_type": "code",
      "source": [
        "import numpy as np\n",
        "\n",
        "for loja in lojas:\n",
        "  loja['Ano Faturamento'] = pd.to_datetime(loja['Data da Compra'], format='%d/%m/%Y').dt.year\n",
        "\n",
        "# Dados de frete médio por loja (substitua pelos valores reais)\n",
        "frete_medio_por_ano_loja = [loja.groupby('Ano Faturamento').Frete.mean() for loja in lojas]\n",
        "\n",
        "# Número de vendas anuais por loja (substitua pelos valores reais, se disponíveis)\n",
        "# Se não disponíveis, use um número estimado ou 1 para uma representação básica.\n",
        "vendas_anuais_por_loja = [loja.groupby('Ano Faturamento').Frete.count() for loja in lojas]\n",
        "\n",
        "# Cálculo do frete anual\n",
        "frete_anual_por_loja = [frete_medio_por_ano_loja[i].mul(vendas_anuais_por_loja[i]) for i, loja in enumerate(lojas)]\n",
        "\n",
        "\n",
        "# Criar o gráfico de barras\n",
        "fig = plt.subplot(111)\n",
        "barWidth = 0.2\n",
        "\n",
        "loja1_x = np.arange(len(frete_anual_por_loja))\n",
        "loja2_x = [x + barWidth for x in loja1_x]\n",
        "loja3_x = [x + barWidth for x in loja2_x]\n",
        "loja4_x =[x + barWidth for x in loja3_x]\n",
        "\n",
        "x_por_lojas = [loja1_x, loja2_x, loja3_x, loja4_x]\n",
        "cores = ['r', 'purple', 'pink', 'orange']\n",
        "\n",
        "for i in range(0, 4):\n",
        "  plt.bar(x_por_lojas[i], frete_anual_por_loja[i].values, color=cores[i], width=barWidth, edgecolor='grey', label=nome_lojas[i])\n",
        "\n",
        "plt.xticks([r + barWidth for r in range(len(frete_anual_por_loja))],\n",
        "        ['2020', '2021', '2022', '2023'])\n",
        "\n",
        "plt.legend()\n",
        "plt.xlabel('Lojas')\n",
        "plt.ylabel('Frete Anual')\n",
        "plt.title('Custo do Frete Anual por Loja')"
      ],
      "metadata": {
        "colab": {
          "base_uri": "https://localhost:8080/",
          "height": 489
        },
        "id": "G41nb44r66cc",
        "outputId": "0038d7a9-a828-4548-a4de-bacb9802aacf"
      },
      "execution_count": null,
      "outputs": [
        {
          "output_type": "execute_result",
          "data": {
            "text/plain": [
              "Text(0.5, 1.0, 'Custo do Frete Anual por Loja')"
            ]
          },
          "metadata": {},
          "execution_count": 34
        },
        {
          "output_type": "display_data",
          "data": {
            "text/plain": [
              "<Figure size 640x480 with 1 Axes>"
            ],
            "image/png": "[encoded data removed]"
          },
          "metadata": {}
        }
      ]
    },
    {
      "cell_type": "markdown",
      "source": [
        "## 3.0 Relatório final"
      ],
      "metadata": {
        "id": "-OJu6PeayVPm"
      }
    },
    {
      "cell_type": "markdown",
      "source": [
        "Motivo pelo qual montamos essa análise é para ajudar o seu João a entender qual\n",
        "seria a melhor escolha para a venda da sua loja, tendo em vista o uso da tecnologia de coleta de dados e geração de gráfico.\n",
        "\n",
        "Ao entendermos melhor com os dados fornecidos pelo senhor João nós entendemos que o desempenho de suas lojas seguem em um âmbito positivo dentro do mercado, ao observamos as categorias podemos ter noção que no quesito de faturamento a Loja 1 segue na liderança.\n",
        "Já na parte de vendas a Loja 3 se sobressai com seus produtos e a avaliação do cliente, que são vertentes que ela domina, ainda na questão das vendas só que dessa vez especificando por produto, a loja 2 consegue se sobressair em relação a outras lojas do seu João, e por último o custo frete se compararmos entre as 4 percebemos que a Loja 1 tem o orçamento mais caro e a 4 o mais barato.\n",
        "\n",
        "Partindo de uma análise mais detalhada agora com gráficos começamos a ter ciência de como é o desempenho entre elas dentro do âmbito de: faturamento por loja, avaliação dos cliente e média cobrado do frete, quando observamos os resultados percebemos o ótimo desempenho da loja 3 nessas categorias comparada as outras que não conseguem ultrapassar seus resultados.\n",
        "\n",
        "Por fim, a melhor loja que seu João deve vender é a 4, pois seu desempenho consegue ser o menos favorável quando comparamos com as outras e não faz sentido vender uma loja que lucra muito e ficar com a que quase não oferece resultado."
      ],
      "metadata": {
        "id": "qsz8O2wAyaHl"
      }
    }
  ]
}